{
 "cells": [
  {
   "cell_type": "markdown",
   "metadata": {
    "id": "wq5ox1isOjQf"
   },
   "source": [
    "# Problem 1"
   ]
  },
  {
   "cell_type": "markdown",
   "metadata": {
    "id": "Cg57fvipOuU5"
   },
   "source": [
    "### part a"
   ]
  },
  {
   "cell_type": "code",
   "execution_count": null,
   "metadata": {
    "id": "kFWr6eI04a4H"
   },
   "outputs": [],
   "source": [
    "import numpy as np\n",
    "import matplotlib.pyplot as plt"
   ]
  },
  {
   "cell_type": "code",
   "execution_count": null,
   "metadata": {
    "colab": {
     "base_uri": "https://localhost:8080/"
    },
    "id": "YP4KFTzjVI-2",
    "outputId": "dde3641a-6164-4a67-ef8d-836a5243cd9e"
   },
   "outputs": [
    {
     "name": "stdout",
     "output_type": "stream",
     "text": [
      "Optimized point: [2.03703598e-10 2.03703598e-10]\n",
      "Optimized function value: 8.299031137761999e-20\n"
     ]
    }
   ],
   "source": [
    "\n",
    "\n",
    "def f(x):\n",
    "    # Define the function you want to optimize\n",
    "    return x[0]**2 + x[1]**2\n",
    "\n",
    "def gradient_f(x):\n",
    "    # Compute the gradient of the function at point x\n",
    "    return np.array([2 * x[0], 2 * x[1]])\n",
    "\n",
    "def gradient_descent(initial_x, learning_rate, num_iterations):\n",
    "    x = initial_x\n",
    "\n",
    "    for i in range(num_iterations):\n",
    "        gradient = gradient_f(x)\n",
    "        x = x - learning_rate * gradient\n",
    "\n",
    "    return x\n",
    "\n",
    "# Set the initial point and learning rate\n",
    "initial_point = np.array([1.0, 1.0])\n",
    "learning_rate = 0.1\n",
    "num_iterations = 100\n",
    "\n",
    "# Run gradient descent\n",
    "optimized_point = gradient_descent(initial_point, learning_rate, num_iterations)\n",
    "\n",
    "print(\"Optimized point:\", optimized_point)\n",
    "print(\"Optimized function value:\", f(optimized_point))\n"
   ]
  },
  {
   "cell_type": "markdown",
   "metadata": {
    "id": "dTdIDRRyJpGg"
   },
   "source": [
    "### part b"
   ]
  },
  {
   "cell_type": "code",
   "execution_count": null,
   "metadata": {
    "colab": {
     "base_uri": "https://localhost:8080/"
    },
    "id": "pFijNPCjJl6f",
    "outputId": "9410ae2c-3c03-4842-a421-b22ca55e3dfd"
   },
   "outputs": [
    {
     "name": "stdout",
     "output_type": "stream",
     "text": [
      "Optimized point: [3.33503993e-12 3.33503993e-12]\n",
      "Optimized function value: 2.2244982618076215e-23\n"
     ]
    }
   ],
   "source": [
    "import pdb\n",
    "\n",
    "def f(x):\n",
    "    # Define the function you want to optimize\n",
    "    return x[0]**2 + x[1]**2\n",
    "\n",
    "def gradient_momentum_f(x, learning_momentum, v):\n",
    "    # Compute the gradient with the learning momentum\n",
    "    a = x[0] - learning_momentum * v[0]\n",
    "    b = x[1] - learning_momentum * v[1]\n",
    "    return np.array([2 * a, 2 * b])\n",
    "\n",
    "def gradient_descent_momentum(initial_x, learning_rate, learning_momentum, num_iterations):\n",
    "    # anh's notes:\n",
    "    # 'evaluate at the looking ahead point, not summing gradient at two different points'\n",
    "    # computation of error term is wrong?\n",
    "    # what is the error term\n",
    "    # gradient for f_2 is not (mathematically) correct\n",
    "    x = initial_x\n",
    "    v = initial_x\n",
    "\n",
    "    for i in range(num_iterations):\n",
    "        gradient = gradient_momentum_f(x, learning_momentum, v)\n",
    "        v_next = (learning_momentum * v) + (learning_rate * gradient)\n",
    "        x_next = x - v\n",
    "        v = v_next\n",
    "        x = x_next\n",
    "    return x\n",
    "\n",
    "# Set the initial point and learning rate\n",
    "initial_point = np.array([1.0, 1.0])\n",
    "learning_rate = 0.1\n",
    "learning_momentum = 0.5\n",
    "num_iterations = 100\n",
    "\n",
    "# Run gradient descent\n",
    "optimized_point = gradient_descent_momentum(initial_point, learning_rate, learning_momentum, num_iterations)\n",
    "\n",
    "print(\"Optimized point:\", optimized_point)\n",
    "print(\"Optimized function value:\", f(optimized_point))\n"
   ]
  },
  {
   "cell_type": "markdown",
   "metadata": {
    "id": "Npz9BEcaM1rO"
   },
   "source": [
    "### part c"
   ]
  },
  {
   "cell_type": "code",
   "execution_count": null,
   "metadata": {
    "colab": {
     "base_uri": "https://localhost:8080/",
     "height": 542
    },
    "id": "XV5kEQfCM3U4",
    "outputId": "72a9de6e-51e4-4ce3-d4e4-22b3fddf64cb"
   },
   "outputs": [
    {
     "name": "stdout",
     "output_type": "stream",
     "text": [
      "Optimized point (standard): [2.03703598e-10 2.03703598e-10]\n",
      "Optimized function value (standard): 8.299031137761999e-20\n",
      "Optimized point (momentum): [3.33503993e-12 3.33503993e-12]\n",
      "Optimized function value (momentum): 2.2244982618076215e-23\n",
      "Optimized point (varying): [-0.26963264 -0.26963264]\n",
      "Optimized function value (varying): 0.1454035212810389\n"
     ]
    },
    {
     "data": {
      "image/png": "[encoded data removed]",
      "text/plain": [
       "<Figure size 640x480 with 1 Axes>"
      ]
     },
     "metadata": {},
     "output_type": "display_data"
    }
   ],
   "source": [
    "### FUNCTION 1\n",
    "import pdb\n",
    "\n",
    "def f1(fx):\n",
    "    # Define the first function you want to optimize\n",
    "    x = fx[0]\n",
    "    y = fx[1]\n",
    "    return x**2 + y**2\n",
    "\n",
    "def gradient_f1(fx):\n",
    "    # Compute the gradient of the function at point x\n",
    "    x = fx[0]\n",
    "    y = fx[1]\n",
    "    return np.array([2 * x, 2 * y])\n",
    "\n",
    "def gradient_momentum_f1(fx, learning_momentum, v):\n",
    "    # Compute the gradient with the learning momentum\n",
    "    a = fx[0] - learning_momentum * v[0]\n",
    "    b = fx[1] - learning_momentum * v[1]\n",
    "    return np.array([2 * a, 2 * b])\n",
    "\n",
    "def gradient_descent(initial_x, learning_rate, num_iterations):\n",
    "    x = initial_x\n",
    "    # desc_steps = ([[initial_x]])\n",
    "\n",
    "    # i am like maybe almost there to figuring out what i'm trying to do here\n",
    "    # -max\n",
    "    # if you can figure out what i have going on better than me\n",
    "    # be my guest\n",
    "\n",
    "    # try y_pred - y_actual to get the error\n",
    "    y_actual = np.array([0,0]) # for f1\n",
    "    \n",
    "    for i in range(num_iterations):\n",
    "        gradient = gradient_f1(x)\n",
    "        x = x - learning_rate * gradient\n",
    "        # np.append(desc_steps,x)\n",
    "        \n",
    "        # this is what was on the whiteboard earlier\n",
    "        y_pred = np.array([x[0], x[0]])\n",
    "        error = np.linalg.norm(y_actual - y_pred)\n",
    "        \n",
    "        # where are error and steps being concatenated to create ordered pairs for graph? \n",
    "        # steps is i (x axis) and error is y-axis\n",
    "        # we should do that here\n",
    "        \n",
    "\n",
    "    return x\n",
    "\n",
    "def gradient_descent_momentum(initial_x, learning_rate, learning_momentum, num_iterations):\n",
    "    x = initial_x\n",
    "    v = initial_x\n",
    "\n",
    "    for i in range(num_iterations):\n",
    "        gradient = gradient_momentum_f1(x, learning_momentum, v)\n",
    "        v_next = (learning_momentum * v) + (learning_rate * gradient)\n",
    "        x_next = x - v\n",
    "        v = v_next\n",
    "        x = x_next\n",
    "        # print(\"iteration \" + str(i))\n",
    "        # pdb.set_trace()\n",
    "    return x\n",
    "\n",
    "def gradient_descent_varying(initial_x, learning_rate, num_iterations):\n",
    "    x = initial_x\n",
    "    v = initial_x\n",
    "\n",
    "    for i in range(num_iterations):\n",
    "        learning_momentum = (i+1)/(i+2)\n",
    "        gradient = gradient_momentum_f1(x, learning_momentum, v)\n",
    "        v_next = (learning_momentum * v) + (learning_rate * gradient)\n",
    "        x_next = x - v\n",
    "        v = v_next\n",
    "        x = x_next\n",
    "        # print(\"iteration \" + str(i))\n",
    "        # pdb.set_trace()\n",
    "    return x\n",
    "\n",
    "# Set the initial point and learning rate\n",
    "initial_point = np.array([1.0, 1.0]) # np.random.randn(2,1) - will generate random array shaped 2,1\n",
    "learning_rate = 0.1\n",
    "learning_momentum = 0.5\n",
    "num_iterations = 100\n",
    "\n",
    "# Run gradient descent\n",
    "standard_optimized_point = gradient_descent(initial_point, learning_rate, num_iterations)\n",
    "print(\"Optimized point (standard):\", standard_optimized_point)\n",
    "print(\"Optimized function value (standard):\", f1(standard_optimized_point))\n",
    "\n",
    "momentum_optimized_point = gradient_descent_momentum(initial_point, learning_rate, learning_momentum, num_iterations)\n",
    "print(\"Optimized point (momentum):\", momentum_optimized_point)\n",
    "print(\"Optimized function value (momentum):\", f1(momentum_optimized_point))\n",
    "\n",
    "varying_optimized_point = gradient_descent_varying(initial_point, learning_rate, num_iterations)\n",
    "print(\"Optimized point (varying):\", varying_optimized_point)\n",
    "print(\"Optimized function value (varying):\", f1(varying_optimized_point))\n",
    "\n",
    "# plotting\n",
    "figure, axes = plt.subplots()\n",
    "# plt.plot(standard_op)\n",
    "plt.show()\n"
   ]
  },
  {
   "cell_type": "code",
   "execution_count": null,
   "metadata": {
    "colab": {
     "base_uri": "https://localhost:8080/",
     "height": 539
    },
    "id": "V7gXMJvclLhD",
    "outputId": "a2af2e90-5069-4207-b573-f467cf205324"
   },
   "outputs": [
    {
     "name": "stdout",
     "output_type": "stream",
     "text": [
      "Optimized point (standard): [1.37399294 1.88905855]\n",
      "Optimized function value (standard): 0.14001518651333114\n",
      "Optimized point (momentum): [0.98113329 0.96254618]\n",
      "Optimized function value (momentum): 0.00035653577023604915\n",
      "Optimized point (varying): [0.97153622 1.03248656]\n",
      "Optimized function value (varying): 0.7858757263831859\n"
     ]
    },
    {
     "data": {
      "image/png": "[encoded data removed]",
      "text/plain": [
       "<Figure size 640x480 with 1 Axes>"
      ]
     },
     "metadata": {},
     "output_type": "display_data"
    }
   ],
   "source": [
    "### FUNCTION 2\n",
    "import pdb\n",
    "\n",
    "def f2(fx):\n",
    "    # Define the second function to optimize\n",
    "    x = fx[0]\n",
    "    y = fx[1]\n",
    "    f = (1-x)**2 + (100 * (y - x**2)**2)\n",
    "    return f\n",
    "\n",
    "def gradient_f2(fx):\n",
    "    # Compute the gradient of the function at point x\n",
    "    x = fx[0]\n",
    "    y = fx[1]\n",
    "    dfdx = -2 * (1 - x) - 400 * x * (y - x**2)\n",
    "    dfdy = (200 * y) - (200 * x**2)\n",
    "    return np.array([dfdx, dfdy])\n",
    "\n",
    "def gradient_momentum_f2(fx, learning_momentum, v):\n",
    "    # Compute the gradient of with learning momentum\n",
    "    x = fx[0] - learning_momentum * v[0]\n",
    "    y = fx[1] - learning_momentum * v[1]\n",
    "    dfdx = -2 * (1 - x) - 400 * x * (y - x**2)\n",
    "    dfdy = (200 * y) - (200 * x**2)\n",
    "    return np.array([dfdx, dfdy])\n",
    "\n",
    "def gradient_descent(initial_x, learning_rate, num_iterations):\n",
    "    x = initial_x\n",
    "\n",
    "    for i in range(num_iterations):\n",
    "        # print(\"normal, iteration:\", i)\n",
    "        gradient = gradient_f2(x)\n",
    "        x = x - learning_rate * gradient\n",
    "    return x\n",
    "\n",
    "def gradient_descent_momentum(initial_x, learning_rate, learning_momentum, num_iterations):\n",
    "    x = initial_x\n",
    "    v = initial_x\n",
    "\n",
    "    for i in range(num_iterations):\n",
    "        # print(\"momentum, iteration:\", i)\n",
    "        gradient = gradient_momentum_f2(x, learning_momentum, v)\n",
    "        v_next = np.add((learning_momentum * v), (learning_rate * gradient))\n",
    "        x_next = np.add(x, -1 * v)\n",
    "        # pdb.set_trace()\n",
    "        v = v_next\n",
    "        x = x_next\n",
    "        # print(\"iteration \" + str(i))\n",
    "        # pdb.set_trace()\n",
    "    return x\n",
    "\n",
    "def gradient_descent_varying(initial_x, learning_rate, num_iterations):\n",
    "    x = initial_x\n",
    "    v = initial_x\n",
    "\n",
    "    for i in range(num_iterations):\n",
    "        # print(\"varying, iteration:\", i)\n",
    "        learning_momentum = (i+1)/(i+2)\n",
    "        gradient = gradient_momentum_f2(x, learning_momentum, v)\n",
    "        v_next = (learning_momentum * v) + (learning_rate * gradient)\n",
    "        x_next = x - v\n",
    "        v = v_next\n",
    "        x = x_next\n",
    "        # print(\"iteration \" + str(i))\n",
    "        # pdb.set_trace()\n",
    "    return x\n",
    "\n",
    "# Set the initial point and learning rate\n",
    "initial_point = np.array([2.0, 2.0])\n",
    "learning_rate = 0.0001\n",
    "learning_momentum = 0.9\n",
    "num_iterations = 10000\n",
    "\n",
    "# Run gradient descent\n",
    "standard_optimized_point = gradient_descent(initial_point, learning_rate, num_iterations)\n",
    "print(\"Optimized point (standard):\", standard_optimized_point)\n",
    "print(\"Optimized function value (standard):\", f2(standard_optimized_point))\n",
    "\n",
    "momentum_optimized_point = gradient_descent_momentum(initial_point, learning_rate, learning_momentum, num_iterations)\n",
    "print(\"Optimized point (momentum):\", momentum_optimized_point)\n",
    "print(\"Optimized function value (momentum):\", f2(momentum_optimized_point))\n",
    "\n",
    "varying_optimized_point = gradient_descent_varying(initial_point, learning_rate, num_iterations)\n",
    "print(\"Optimized point (varying):\", varying_optimized_point)\n",
    "print(\"Optimized function value (varying):\", f2(varying_optimized_point))\n",
    "\n",
    "# plotting\n",
    "# figure, ax = plt.subplots()\n",
    "# plt.grid(True)\n",
    "# ax.plot(standard_optimized_point)\n",
    "# plt.show()"
   ]
  },
  {
   "cell_type": "markdown",
   "metadata": {
    "id": "I6gWOaDD484i"
   },
   "source": [
    "# Problem 2"
   ]
  },
  {
   "cell_type": "code",
   "execution_count": null,
   "metadata": {
    "id": "3rIu7jO0yNxD"
   },
   "outputs": [],
   "source": [
    "### IMPORTS\n",
    "from sklearn.datasets import fetch_openml\n",
    "\n",
    "import matplotlib as mpl\n",
    "import matplotlib.pyplot as plt\n",
    "\n",
    "from sklearn.linear_model import SGDClassifier\n",
    "\n",
    "from sklearn.model_selection import StratifiedKFold\n",
    "from sklearn.base import clone\n",
    "\n",
    "from sklearn.model_selection import cross_val_predict\n",
    "from sklearn.model_selection import cross_val_score\n",
    "\n",
    "from sklearn.metrics import confusion_matrix\n",
    "from sklearn.metrics import precision_score, recall_score\n",
    "from sklearn.metrics import f1_score\n",
    "from sklearn.metrics import precision_recall_curve\n",
    "from sklearn.metrics import roc_curve\n",
    "from sklearn.metrics import roc_auc_score"
   ]
  },
  {
   "cell_type": "code",
   "execution_count": null,
   "metadata": {
    "colab": {
     "base_uri": "https://localhost:8080/"
    },
    "id": "3ShEL7MVvJw4",
    "outputId": "a467e692-dafd-44b7-b998-215deb540160"
   },
   "outputs": [
    {
     "name": "stderr",
     "output_type": "stream",
     "text": [
      "/usr/local/lib/python3.10/dist-packages/sklearn/datasets/_openml.py:968: FutureWarning: The default value of `parser` will change from `'liac-arff'` to `'auto'` in 1.4. You can set `parser='auto'` to silence this warning. Therefore, an `ImportError` will be raised from 1.4 if the dataset is dense and pandas is not installed. Note that the pandas parser may return different data types. See the Notes Section in fetch_openml's API doc for details.\n",
      "  warn(\n"
     ]
    }
   ],
   "source": [
    "### FETCH DATA, ASSIGN VARS\n",
    "\n",
    "mnist = fetch_openml('mnist_784', version=1)\n",
    "mnist.keys()\n",
    "\n",
    "X,y = mnist[\"data\"], mnist[\"target\"]\n",
    "X = np.array(X)\n",
    "some_digit = X[0]\n",
    "\n",
    "X_train, X_test, y_train, y_test = X[:60000], X[60000:], y[:60000], y[60000:]"
   ]
  },
  {
   "cell_type": "markdown",
   "metadata": {
    "id": "D1p_oIuyDvqp"
   },
   "source": [
    "Our 3 classifiers:\n",
    "1. OvA\n",
    "2. Random Forest\n",
    "3. KNeighbors (probably will work best)"
   ]
  },
  {
   "cell_type": "markdown",
   "metadata": {
    "id": "YMeXfs--EaVq"
   },
   "source": [
    "## One vs. All (OvA)"
   ]
  },
  {
   "cell_type": "code",
   "execution_count": null,
   "metadata": {
    "colab": {
     "base_uri": "https://localhost:8080/",
     "height": 426
    },
    "id": "oODiwTYjEmS1",
    "outputId": "69fe4f4e-f286-4415-bfee-42db3bbe6f74"
   },
   "outputs": [
    {
     "ename": "KeyboardInterrupt",
     "evalue": "ignored",
     "output_type": "error",
     "traceback": [
      "\u001b[0;31m---------------------------------------------------------------------------\u001b[0m",
      "\u001b[0;31mKeyboardInterrupt\u001b[0m                         Traceback (most recent call last)",
      "\u001b[0;32m<ipython-input-9-12ccd8d722dd>\u001b[0m in \u001b[0;36m<cell line: 2>\u001b[0;34m()\u001b[0m\n\u001b[1;32m      1\u001b[0m \u001b[0msgd_clf\u001b[0m \u001b[0;34m=\u001b[0m \u001b[0mSGDClassifier\u001b[0m\u001b[0;34m(\u001b[0m\u001b[0mrandom_state\u001b[0m\u001b[0;34m=\u001b[0m\u001b[0;36m42\u001b[0m\u001b[0;34m)\u001b[0m\u001b[0;34m\u001b[0m\u001b[0;34m\u001b[0m\u001b[0m\n\u001b[0;32m----> 2\u001b[0;31m \u001b[0msgd_clf\u001b[0m\u001b[0;34m.\u001b[0m\u001b[0mfit\u001b[0m\u001b[0;34m(\u001b[0m\u001b[0mX_train\u001b[0m\u001b[0;34m,\u001b[0m \u001b[0my_train\u001b[0m\u001b[0;34m)\u001b[0m\u001b[0;34m\u001b[0m\u001b[0;34m\u001b[0m\u001b[0m\n\u001b[0m\u001b[1;32m      3\u001b[0m \u001b[0msgd_clf\u001b[0m\u001b[0;34m.\u001b[0m\u001b[0mpredict\u001b[0m\u001b[0;34m(\u001b[0m\u001b[0;34m[\u001b[0m\u001b[0msome_digit\u001b[0m\u001b[0;34m]\u001b[0m\u001b[0;34m)\u001b[0m\u001b[0;34m\u001b[0m\u001b[0;34m\u001b[0m\u001b[0m\n\u001b[1;32m      4\u001b[0m \u001b[0;34m\u001b[0m\u001b[0m\n\u001b[1;32m      5\u001b[0m \u001b[0msome_digit_scores\u001b[0m \u001b[0;34m=\u001b[0m \u001b[0msgd_clf\u001b[0m\u001b[0;34m.\u001b[0m\u001b[0mdecision_function\u001b[0m\u001b[0;34m(\u001b[0m\u001b[0;34m[\u001b[0m\u001b[0msome_digit\u001b[0m\u001b[0;34m]\u001b[0m\u001b[0;34m)\u001b[0m\u001b[0;34m\u001b[0m\u001b[0;34m\u001b[0m\u001b[0m\n",
      "\u001b[0;32m/usr/local/lib/python3.10/dist-packages/sklearn/linear_model/_stochastic_gradient.py\u001b[0m in \u001b[0;36mfit\u001b[0;34m(self, X, y, coef_init, intercept_init, sample_weight)\u001b[0m\n\u001b[1;32m    892\u001b[0m         \u001b[0mself\u001b[0m\u001b[0;34m.\u001b[0m\u001b[0m_more_validate_params\u001b[0m\u001b[0;34m(\u001b[0m\u001b[0;34m)\u001b[0m\u001b[0;34m\u001b[0m\u001b[0;34m\u001b[0m\u001b[0m\n\u001b[1;32m    893\u001b[0m \u001b[0;34m\u001b[0m\u001b[0m\n\u001b[0;32m--> 894\u001b[0;31m         return self._fit(\n\u001b[0m\u001b[1;32m    895\u001b[0m             \u001b[0mX\u001b[0m\u001b[0;34m,\u001b[0m\u001b[0;34m\u001b[0m\u001b[0;34m\u001b[0m\u001b[0m\n\u001b[1;32m    896\u001b[0m             \u001b[0my\u001b[0m\u001b[0;34m,\u001b[0m\u001b[0;34m\u001b[0m\u001b[0;34m\u001b[0m\u001b[0m\n",
      "\u001b[0;32m/usr/local/lib/python3.10/dist-packages/sklearn/linear_model/_stochastic_gradient.py\u001b[0m in \u001b[0;36m_fit\u001b[0;34m(self, X, y, alpha, C, loss, learning_rate, coef_init, intercept_init, sample_weight)\u001b[0m\n\u001b[1;32m    681\u001b[0m         \u001b[0mself\u001b[0m\u001b[0;34m.\u001b[0m\u001b[0mt_\u001b[0m \u001b[0;34m=\u001b[0m \u001b[0;36m1.0\u001b[0m\u001b[0;34m\u001b[0m\u001b[0;34m\u001b[0m\u001b[0m\n\u001b[1;32m    682\u001b[0m \u001b[0;34m\u001b[0m\u001b[0m\n\u001b[0;32m--> 683\u001b[0;31m         self._partial_fit(\n\u001b[0m\u001b[1;32m    684\u001b[0m             \u001b[0mX\u001b[0m\u001b[0;34m,\u001b[0m\u001b[0;34m\u001b[0m\u001b[0;34m\u001b[0m\u001b[0m\n\u001b[1;32m    685\u001b[0m             \u001b[0my\u001b[0m\u001b[0;34m,\u001b[0m\u001b[0;34m\u001b[0m\u001b[0;34m\u001b[0m\u001b[0m\n",
      "\u001b[0;32m/usr/local/lib/python3.10/dist-packages/sklearn/linear_model/_stochastic_gradient.py\u001b[0m in \u001b[0;36m_partial_fit\u001b[0;34m(self, X, y, alpha, C, loss, learning_rate, max_iter, classes, sample_weight, coef_init, intercept_init)\u001b[0m\n\u001b[1;32m    615\u001b[0m         \u001b[0;31m# delegate to concrete training procedure\u001b[0m\u001b[0;34m\u001b[0m\u001b[0;34m\u001b[0m\u001b[0m\n\u001b[1;32m    616\u001b[0m         \u001b[0;32mif\u001b[0m \u001b[0mn_classes\u001b[0m \u001b[0;34m>\u001b[0m \u001b[0;36m2\u001b[0m\u001b[0;34m:\u001b[0m\u001b[0;34m\u001b[0m\u001b[0;34m\u001b[0m\u001b[0m\n\u001b[0;32m--> 617\u001b[0;31m             self._fit_multiclass(\n\u001b[0m\u001b[1;32m    618\u001b[0m                 \u001b[0mX\u001b[0m\u001b[0;34m,\u001b[0m\u001b[0;34m\u001b[0m\u001b[0;34m\u001b[0m\u001b[0m\n\u001b[1;32m    619\u001b[0m                 \u001b[0my\u001b[0m\u001b[0;34m,\u001b[0m\u001b[0;34m\u001b[0m\u001b[0;34m\u001b[0m\u001b[0m\n",
      "\u001b[0;32m/usr/local/lib/python3.10/dist-packages/sklearn/linear_model/_stochastic_gradient.py\u001b[0m in \u001b[0;36m_fit_multiclass\u001b[0;34m(self, X, y, alpha, C, learning_rate, sample_weight, max_iter)\u001b[0m\n\u001b[1;32m    758\u001b[0m         \u001b[0mrandom_state\u001b[0m \u001b[0;34m=\u001b[0m \u001b[0mcheck_random_state\u001b[0m\u001b[0;34m(\u001b[0m\u001b[0mself\u001b[0m\u001b[0;34m.\u001b[0m\u001b[0mrandom_state\u001b[0m\u001b[0;34m)\u001b[0m\u001b[0;34m\u001b[0m\u001b[0;34m\u001b[0m\u001b[0m\n\u001b[1;32m    759\u001b[0m         \u001b[0mseeds\u001b[0m \u001b[0;34m=\u001b[0m \u001b[0mrandom_state\u001b[0m\u001b[0;34m.\u001b[0m\u001b[0mrandint\u001b[0m\u001b[0;34m(\u001b[0m\u001b[0mMAX_INT\u001b[0m\u001b[0;34m,\u001b[0m \u001b[0msize\u001b[0m\u001b[0;34m=\u001b[0m\u001b[0mlen\u001b[0m\u001b[0;34m(\u001b[0m\u001b[0mself\u001b[0m\u001b[0;34m.\u001b[0m\u001b[0mclasses_\u001b[0m\u001b[0;34m)\u001b[0m\u001b[0;34m)\u001b[0m\u001b[0;34m\u001b[0m\u001b[0;34m\u001b[0m\u001b[0m\n\u001b[0;32m--> 760\u001b[0;31m         result = Parallel(\n\u001b[0m\u001b[1;32m    761\u001b[0m             \u001b[0mn_jobs\u001b[0m\u001b[0;34m=\u001b[0m\u001b[0mself\u001b[0m\u001b[0;34m.\u001b[0m\u001b[0mn_jobs\u001b[0m\u001b[0;34m,\u001b[0m \u001b[0mverbose\u001b[0m\u001b[0;34m=\u001b[0m\u001b[0mself\u001b[0m\u001b[0;34m.\u001b[0m\u001b[0mverbose\u001b[0m\u001b[0;34m,\u001b[0m \u001b[0mrequire\u001b[0m\u001b[0;34m=\u001b[0m\u001b[0;34m\"sharedmem\"\u001b[0m\u001b[0;34m\u001b[0m\u001b[0;34m\u001b[0m\u001b[0m\n\u001b[1;32m    762\u001b[0m         \u001b[0;34m)\u001b[0m\u001b[0;34m(\u001b[0m\u001b[0;34m\u001b[0m\u001b[0;34m\u001b[0m\u001b[0m\n",
      "\u001b[0;32m/usr/local/lib/python3.10/dist-packages/sklearn/utils/parallel.py\u001b[0m in \u001b[0;36m__call__\u001b[0;34m(self, iterable)\u001b[0m\n\u001b[1;32m     61\u001b[0m             \u001b[0;32mfor\u001b[0m \u001b[0mdelayed_func\u001b[0m\u001b[0;34m,\u001b[0m \u001b[0margs\u001b[0m\u001b[0;34m,\u001b[0m \u001b[0mkwargs\u001b[0m \u001b[0;32min\u001b[0m \u001b[0miterable\u001b[0m\u001b[0;34m\u001b[0m\u001b[0;34m\u001b[0m\u001b[0m\n\u001b[1;32m     62\u001b[0m         )\n\u001b[0;32m---> 63\u001b[0;31m         \u001b[0;32mreturn\u001b[0m \u001b[0msuper\u001b[0m\u001b[0;34m(\u001b[0m\u001b[0;34m)\u001b[0m\u001b[0;34m.\u001b[0m\u001b[0m__call__\u001b[0m\u001b[0;34m(\u001b[0m\u001b[0miterable_with_config\u001b[0m\u001b[0;34m)\u001b[0m\u001b[0;34m\u001b[0m\u001b[0;34m\u001b[0m\u001b[0m\n\u001b[0m\u001b[1;32m     64\u001b[0m \u001b[0;34m\u001b[0m\u001b[0m\n\u001b[1;32m     65\u001b[0m \u001b[0;34m\u001b[0m\u001b[0m\n",
      "\u001b[0;32m/usr/local/lib/python3.10/dist-packages/joblib/parallel.py\u001b[0m in \u001b[0;36m__call__\u001b[0;34m(self, iterable)\u001b[0m\n\u001b[1;32m   1861\u001b[0m             \u001b[0moutput\u001b[0m \u001b[0;34m=\u001b[0m \u001b[0mself\u001b[0m\u001b[0;34m.\u001b[0m\u001b[0m_get_sequential_output\u001b[0m\u001b[0;34m(\u001b[0m\u001b[0miterable\u001b[0m\u001b[0;34m)\u001b[0m\u001b[0;34m\u001b[0m\u001b[0;34m\u001b[0m\u001b[0m\n\u001b[1;32m   1862\u001b[0m             \u001b[0mnext\u001b[0m\u001b[0;34m(\u001b[0m\u001b[0moutput\u001b[0m\u001b[0;34m)\u001b[0m\u001b[0;34m\u001b[0m\u001b[0;34m\u001b[0m\u001b[0m\n\u001b[0;32m-> 1863\u001b[0;31m             \u001b[0;32mreturn\u001b[0m \u001b[0moutput\u001b[0m \u001b[0;32mif\u001b[0m \u001b[0mself\u001b[0m\u001b[0;34m.\u001b[0m\u001b[0mreturn_generator\u001b[0m \u001b[0;32melse\u001b[0m \u001b[0mlist\u001b[0m\u001b[0;34m(\u001b[0m\u001b[0moutput\u001b[0m\u001b[0;34m)\u001b[0m\u001b[0;34m\u001b[0m\u001b[0;34m\u001b[0m\u001b[0m\n\u001b[0m\u001b[1;32m   1864\u001b[0m \u001b[0;34m\u001b[0m\u001b[0m\n\u001b[1;32m   1865\u001b[0m         \u001b[0;31m# Let's create an ID that uniquely identifies the current call. If the\u001b[0m\u001b[0;34m\u001b[0m\u001b[0;34m\u001b[0m\u001b[0m\n",
      "\u001b[0;32m/usr/local/lib/python3.10/dist-packages/joblib/parallel.py\u001b[0m in \u001b[0;36m_get_sequential_output\u001b[0;34m(self, iterable)\u001b[0m\n\u001b[1;32m   1790\u001b[0m                 \u001b[0mself\u001b[0m\u001b[0;34m.\u001b[0m\u001b[0mn_dispatched_batches\u001b[0m \u001b[0;34m+=\u001b[0m \u001b[0;36m1\u001b[0m\u001b[0;34m\u001b[0m\u001b[0;34m\u001b[0m\u001b[0m\n\u001b[1;32m   1791\u001b[0m                 \u001b[0mself\u001b[0m\u001b[0;34m.\u001b[0m\u001b[0mn_dispatched_tasks\u001b[0m \u001b[0;34m+=\u001b[0m \u001b[0;36m1\u001b[0m\u001b[0;34m\u001b[0m\u001b[0;34m\u001b[0m\u001b[0m\n\u001b[0;32m-> 1792\u001b[0;31m                 \u001b[0mres\u001b[0m \u001b[0;34m=\u001b[0m \u001b[0mfunc\u001b[0m\u001b[0;34m(\u001b[0m\u001b[0;34m*\u001b[0m\u001b[0margs\u001b[0m\u001b[0;34m,\u001b[0m \u001b[0;34m**\u001b[0m\u001b[0mkwargs\u001b[0m\u001b[0;34m)\u001b[0m\u001b[0;34m\u001b[0m\u001b[0;34m\u001b[0m\u001b[0m\n\u001b[0m\u001b[1;32m   1793\u001b[0m                 \u001b[0mself\u001b[0m\u001b[0;34m.\u001b[0m\u001b[0mn_completed_tasks\u001b[0m \u001b[0;34m+=\u001b[0m \u001b[0;36m1\u001b[0m\u001b[0;34m\u001b[0m\u001b[0;34m\u001b[0m\u001b[0m\n\u001b[1;32m   1794\u001b[0m                 \u001b[0mself\u001b[0m\u001b[0;34m.\u001b[0m\u001b[0mprint_progress\u001b[0m\u001b[0;34m(\u001b[0m\u001b[0;34m)\u001b[0m\u001b[0;34m\u001b[0m\u001b[0;34m\u001b[0m\u001b[0m\n",
      "\u001b[0;32m/usr/local/lib/python3.10/dist-packages/sklearn/utils/parallel.py\u001b[0m in \u001b[0;36m__call__\u001b[0;34m(self, *args, **kwargs)\u001b[0m\n\u001b[1;32m    121\u001b[0m             \u001b[0mconfig\u001b[0m \u001b[0;34m=\u001b[0m \u001b[0;34m{\u001b[0m\u001b[0;34m}\u001b[0m\u001b[0;34m\u001b[0m\u001b[0;34m\u001b[0m\u001b[0m\n\u001b[1;32m    122\u001b[0m         \u001b[0;32mwith\u001b[0m \u001b[0mconfig_context\u001b[0m\u001b[0;34m(\u001b[0m\u001b[0;34m**\u001b[0m\u001b[0mconfig\u001b[0m\u001b[0;34m)\u001b[0m\u001b[0;34m:\u001b[0m\u001b[0;34m\u001b[0m\u001b[0;34m\u001b[0m\u001b[0m\n\u001b[0;32m--> 123\u001b[0;31m             \u001b[0;32mreturn\u001b[0m \u001b[0mself\u001b[0m\u001b[0;34m.\u001b[0m\u001b[0mfunction\u001b[0m\u001b[0;34m(\u001b[0m\u001b[0;34m*\u001b[0m\u001b[0margs\u001b[0m\u001b[0;34m,\u001b[0m \u001b[0;34m**\u001b[0m\u001b[0mkwargs\u001b[0m\u001b[0;34m)\u001b[0m\u001b[0;34m\u001b[0m\u001b[0;34m\u001b[0m\u001b[0m\n\u001b[0m",
      "\u001b[0;32m/usr/local/lib/python3.10/dist-packages/sklearn/linear_model/_stochastic_gradient.py\u001b[0m in \u001b[0;36mfit_binary\u001b[0;34m(est, i, X, y, alpha, C, learning_rate, max_iter, pos_weight, neg_weight, sample_weight, validation_mask, random_state)\u001b[0m\n\u001b[1;32m    444\u001b[0m     \u001b[0mtol\u001b[0m \u001b[0;34m=\u001b[0m \u001b[0mest\u001b[0m\u001b[0;34m.\u001b[0m\u001b[0mtol\u001b[0m \u001b[0;32mif\u001b[0m \u001b[0mest\u001b[0m\u001b[0;34m.\u001b[0m\u001b[0mtol\u001b[0m \u001b[0;32mis\u001b[0m \u001b[0;32mnot\u001b[0m \u001b[0;32mNone\u001b[0m \u001b[0;32melse\u001b[0m \u001b[0;34m-\u001b[0m\u001b[0mnp\u001b[0m\u001b[0;34m.\u001b[0m\u001b[0minf\u001b[0m\u001b[0;34m\u001b[0m\u001b[0;34m\u001b[0m\u001b[0m\n\u001b[1;32m    445\u001b[0m \u001b[0;34m\u001b[0m\u001b[0m\n\u001b[0;32m--> 446\u001b[0;31m     coef, intercept, average_coef, average_intercept, n_iter_ = _plain_sgd(\n\u001b[0m\u001b[1;32m    447\u001b[0m         \u001b[0mcoef\u001b[0m\u001b[0;34m,\u001b[0m\u001b[0;34m\u001b[0m\u001b[0;34m\u001b[0m\u001b[0m\n\u001b[1;32m    448\u001b[0m         \u001b[0mintercept\u001b[0m\u001b[0;34m,\u001b[0m\u001b[0;34m\u001b[0m\u001b[0;34m\u001b[0m\u001b[0m\n",
      "\u001b[0;31mKeyboardInterrupt\u001b[0m: "
     ]
    }
   ],
   "source": [
    "sgd_clf = SGDClassifier(random_state=42)\n",
    "sgd_clf.fit(X_train, y_train)\n",
    "sgd_clf.predict([some_digit])\n",
    "\n",
    "some_digit_scores = sgd_clf.decision_function([some_digit])\n",
    "\n",
    "y_train_ova_pred = cross_val_predict(sgd_clf, X_train, y_train, cv=5)\n",
    "f1_score(y_train, y_train_ova_pred, average=\"macro\")"
   ]
  },
  {
   "cell_type": "markdown",
   "metadata": {
    "id": "yZCrR7b6T-TC"
   },
   "source": [
    "The One vs. All classifier was the slowest and least accurate of the 3 classifiers we chose. It took 16 minutes to produce an f1 score of 87%."
   ]
  },
  {
   "cell_type": "markdown",
   "metadata": {
    "id": "4tWE_A_FEb1D"
   },
   "source": [
    "## Random Forest"
   ]
  },
  {
   "cell_type": "code",
   "execution_count": null,
   "metadata": {
    "id": "Ut8t8qAJE8W5"
   },
   "outputs": [],
   "source": [
    "from sklearn.ensemble import RandomForestClassifier\n",
    "\n",
    "forest_clf = RandomForestClassifier(random_state=42)\n",
    "forest_clf.fit(X_train, y_train)\n",
    "forest_clf.predict([some_digit])\n",
    "\n",
    "forest_clf.predict_proba([some_digit])\n",
    "\n",
    "y_train_forest_pred = cross_val_predict(forest_clf, X_train, y_train, cv=5)\n",
    "f1_score(y_train, y_train_forest_pred, average=\"macro\")"
   ]
  },
  {
   "cell_type": "markdown",
   "metadata": {
    "id": "QWERnAJAUFWG"
   },
   "source": [
    "The Random Forest classifier and the K Neighbors classifier scored very similarly, but because it's more difficult to tune the hyperparameters for this classifier, it is not the best one of the 3 we chose."
   ]
  },
  {
   "cell_type": "markdown",
   "metadata": {
    "id": "iMqh5EUyEdhy"
   },
   "source": [
    "## K Neighbors"
   ]
  },
  {
   "cell_type": "code",
   "execution_count": null,
   "metadata": {
    "id": "q4MS5NqJEfU9"
   },
   "outputs": [],
   "source": [
    "from sklearn.neighbors import KNeighborsClassifier\n",
    "\n",
    "y_train_large = (y_train >= 7)\n",
    "y_train_odd = (y_train % 2 == 1)\n",
    "y_multilabel = np.c_[y_train_large, y_train_odd]\n",
    "\n",
    "knn_clf = KNeighborsClassifier()\n",
    "knn_clf.fit(X_train, y_multilabel)\n",
    "\n",
    "knn_clf.predict([some_digit])\n",
    "\n",
    "\n",
    "y_train_knn_pred = cross_val_predict(knn_clf, X_train, y_multilabel, cv=5)\n",
    "f1_score(y_multilabel, y_train_knn_pred, average=\"macro\")\n",
    "\n",
    "\n",
    "\n",
    "### TEST\n",
    "\n",
    "y_test_large = (y_test >= 7)\n",
    "y_test_odd = (y_test % 2 == 1)\n",
    "y_multilabel_test = np.c_[y_test_large, y_test_odd]\n",
    "\n",
    "y_test_knn_pred = cross_val_predict(knn_clf, X_test, y_multilabel_test, cv=5)\n",
    "f1_score(y_multilabel_test, y_test_knn_pred, average=\"macro\")"
   ]
  },
  {
   "cell_type": "markdown",
   "metadata": {
    "id": "jiM93wiGRFTN"
   },
   "source": [
    "The K Nearest Neighbors classifier is the best of the 3 classifiers we chose. While it performed very similarly to the Random Forest classifier in this example, further tuning of hyperparameters would improve its performance even more."
   ]
  }
 ],
 "metadata": {
  "colab": {
   "provenance": []
  },
  "kernelspec": {
   "display_name": "Python 3",
   "language": "python",
   "name": "python3"
  },
  "language_info": {
   "codemirror_mode": {
    "name": "ipython",
    "version": 3
   },
   "file_extension": ".py",
   "mimetype": "text/x-python",
   "name": "python",
   "nbconvert_exporter": "python",
   "pygments_lexer": "ipython3",
   "version": "3.8.3"
  }
 },
 "nbformat": 4,
 "nbformat_minor": 1
}
