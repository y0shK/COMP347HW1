{
 "cells": [
  {
   "cell_type": "markdown",
   "metadata": {
    "id": "wq5ox1isOjQf"
   },
   "source": [
    "# Problem 1"
   ]
  },
  {
   "cell_type": "markdown",
   "metadata": {
    "id": "Cg57fvipOuU5"
   },
   "source": [
    "### part a"
   ]
  },
  {
   "cell_type": "code",
   "execution_count": 2,
   "metadata": {
    "id": "kFWr6eI04a4H"
   },
   "outputs": [],
   "source": [
    "import numpy as np\n",
    "import matplotlib.pyplot as plt"
   ]
  },
  {
   "cell_type": "code",
   "execution_count": 3,
   "metadata": {
    "colab": {
     "base_uri": "https://localhost:8080/"
    },
    "id": "YP4KFTzjVI-2",
    "outputId": "a7211734-7ba5-4899-baee-787e56d32b64"
   },
   "outputs": [
    {
     "name": "stdout",
     "output_type": "stream",
     "text": [
      "Optimized point: [2.03703598e-10 2.03703598e-10]\n",
      "Optimized function value: 8.299031137761999e-20\n"
     ]
    }
   ],
   "source": [
    "def f(x):\n",
    "    # Define the function you want to optimize\n",
    "    return x[0]**2 + x[1]**2\n",
    "\n",
    "def gradient_f(x):\n",
    "    # Compute the gradient of the function at point x\n",
    "    return np.array([2 * x[0], 2 * x[1]])\n",
    "\n",
    "def gradient_descent(initial_x, learning_rate, num_iterations):\n",
    "    x = initial_x\n",
    "\n",
    "    for i in range(num_iterations):\n",
    "        gradient = gradient_f(x)\n",
    "        x = x - learning_rate * gradient\n",
    "\n",
    "    return x\n",
    "\n",
    "# Set the initial point and learning rate\n",
    "initial_point = np.array([1.0, 1.0])\n",
    "learning_rate = 0.1\n",
    "num_iterations = 100\n",
    "\n",
    "# Run gradient descent\n",
    "optimized_point = gradient_descent(initial_point, learning_rate, num_iterations)\n",
    "\n",
    "print(\"Optimized point:\", optimized_point)\n",
    "print(\"Optimized function value:\", f(optimized_point))\n"
   ]
  },
  {
   "cell_type": "markdown",
   "metadata": {
    "id": "dTdIDRRyJpGg"
   },
   "source": [
    "### part b"
   ]
  },
  {
   "cell_type": "code",
   "execution_count": 4,
   "metadata": {
    "colab": {
     "base_uri": "https://localhost:8080/"
    },
    "id": "pFijNPCjJl6f",
    "outputId": "daa491a7-b889-430e-b5a0-5b0b12cf431d"
   },
   "outputs": [
    {
     "name": "stdout",
     "output_type": "stream",
     "text": [
      "Optimized point: [4.70882387e-22 4.70882387e-22]\n",
      "Optimized function value: 4.434604456688442e-43\n"
     ]
    }
   ],
   "source": [
    "import pdb\n",
    "\n",
    "def f(x):\n",
    "    # Define the function you want to optimize\n",
    "    return x[0]**2 + x[1]**2\n",
    "\n",
    "def gradient_momentum_f(x, learning_momentum, v):\n",
    "    # Compute the gradient with the learning momentum\n",
    "    return np.array([2 * x[0] - learning_momentum * 2 * v[0], 2 * x[1] - learning_momentum * 2 * v[1]])\n",
    "\n",
    "def gradient_descent_momentum(initial_x, learning_rate, learning_momentum, num_iterations):\n",
    "    x = initial_x\n",
    "    v = initial_x\n",
    "\n",
    "    for i in range(num_iterations):\n",
    "        gradient = gradient_momentum_f(x, learning_momentum, v)\n",
    "        v = (learning_momentum * v) + (learning_rate * gradient)\n",
    "        x = x - v\n",
    "    return x\n",
    "\n",
    "# Set the initial point and learning rate\n",
    "initial_point = np.array([1.0, 1.0])\n",
    "learning_rate = 0.1\n",
    "learning_momentum = 0.5\n",
    "num_iterations = 100\n",
    "\n",
    "# Run gradient descent\n",
    "optimized_point = gradient_descent_momentum(initial_point, learning_rate, learning_momentum, num_iterations)\n",
    "\n",
    "print(\"Optimized point:\", optimized_point)\n",
    "print(\"Optimized function value:\", f(optimized_point))\n"
   ]
  },
  {
   "cell_type": "markdown",
   "metadata": {
    "id": "Npz9BEcaM1rO"
   },
   "source": [
    "### part c"
   ]
  },
  {
   "cell_type": "code",
   "execution_count": 19,
   "metadata": {
    "colab": {
     "base_uri": "https://localhost:8080/"
    },
    "id": "XV5kEQfCM3U4",
    "outputId": "0e15dc09-e1bb-4af3-fda3-476bf1cb1e5d"
   },
   "outputs": [
    {
     "name": "stdout",
     "output_type": "stream",
     "text": [
      "Optimized point (standard): [2.03703598e-10 2.03703598e-10]\n",
      "Optimized function value (standard): 8.299031137761999e-20\n",
      "Optimized point (momentum): [4.70882387e-22 4.70882387e-22]\n",
      "Optimized function value (momentum): 4.434604456688442e-43\n",
      "Optimized point (momentum): [-2.2258194e-06 -2.2258194e-06]\n",
      "Optimized function value (momentum): 9.908543958645736e-12\n"
     ]
    },
    {
     "data": {
      "text/plain": [
       "[<matplotlib.lines.Line2D at 0x213154ef220>,\n",
       " <matplotlib.lines.Line2D at 0x213154ef310>,\n",
       " <matplotlib.lines.Line2D at 0x213154ef3d0>]"
      ]
     },
     "execution_count": 19,
     "metadata": {},
     "output_type": "execute_result"
    },
    {
     "data": {
      "image/png": "[encoded data removed]",
      "text/plain": [
       "<Figure size 432x288 with 1 Axes>"
      ]
     },
     "metadata": {
      "needs_background": "light"
     },
     "output_type": "display_data"
    }
   ],
   "source": [
    "### FUNCTION 1\n",
    "import pdb\n",
    "\n",
    "def f1(fx):\n",
    "    # Define the first function you want to optimize\n",
    "    x = fx[0]\n",
    "    y = fx[1]\n",
    "    return x**2 + y**2\n",
    "\n",
    "def gradient_f1(fx):\n",
    "    # Compute the gradient of the function at point x\n",
    "    x = fx[0]\n",
    "    y = fx[1]\n",
    "    return np.array([2 * x, 2 * y])\n",
    "\n",
    "def gradient_momentum_f1(fx, learning_momentum, v):\n",
    "    # Compute the gradient with the learning momentum\n",
    "    x = fx[0]\n",
    "    y = fx[1]\n",
    "    return np.array([2 * x - learning_momentum * 2 * v[0], 2 * y - learning_momentum * 2 * v[1]])\n",
    "\n",
    "def gradient_descent(initial_x, learning_rate, num_iterations):\n",
    "    x = initial_x\n",
    "    \n",
    "    y_actual = np.array([0]*num_iterations)\n",
    "    y_pred = []\n",
    "    steps = []\n",
    "    \n",
    "    for i in range(num_iterations):\n",
    "        gradient = gradient_f1(x)\n",
    "        x = x - learning_rate * gradient\n",
    "        # pdb.set_trace()\n",
    "        \n",
    "        y_pred.append(x[0]) \n",
    "        steps.append(i)\n",
    "        \n",
    "    steps = np.array(steps)\n",
    "    error = np.array([y_pred[i] - y_actual[i] for i in range(len(y_pred))])\n",
    "    y_pred = np.array(y_pred)\n",
    "    # plt.plot(steps, error)\n",
    "    return [x, steps, error]\n",
    "\n",
    "def gradient_descent_momentum(initial_x, learning_rate, learning_momentum, num_iterations):\n",
    "    x = initial_x\n",
    "    v = initial_x\n",
    "\n",
    "    y_actual = np.array([0]*num_iterations)\n",
    "    y_pred = []\n",
    "    steps = []\n",
    "    \n",
    "    for i in range(num_iterations):\n",
    "        gradient = gradient_momentum_f1(x, learning_momentum, v)\n",
    "        v = (learning_momentum * v) + (learning_rate * gradient)\n",
    "        x = x - v\n",
    "        # print(\"iteration \" + str(i))\n",
    "        # pdb.set_trace()\n",
    "        \n",
    "        y_pred.append(x[0]) \n",
    "        steps.append(i)\n",
    "        \n",
    "    steps = np.array(steps)\n",
    "    error = np.array([y_pred[i] - y_actual[i] for i in range(len(y_pred))])\n",
    "    y_pred = np.array(y_pred)\n",
    "    return [x, steps, error]\n",
    "\n",
    "def gradient_descent_varying(initial_x, learning_rate, num_iterations):\n",
    "    x = initial_x\n",
    "    v = initial_x\n",
    "    \n",
    "    y_actual = np.array([0]*num_iterations)\n",
    "    y_pred = []\n",
    "    steps = []\n",
    "\n",
    "    for i in range(num_iterations):\n",
    "        learning_momentum = (i+1)/(i+2)\n",
    "        gradient = gradient_momentum_f1(x, learning_momentum, v)\n",
    "        v = (learning_momentum * v) + (learning_rate * gradient)\n",
    "        x = x - v\n",
    "        # print(\"iteration \" + str(i))\n",
    "        # pdb.set_trace()\n",
    "        \n",
    "        y_pred.append(x[0]) \n",
    "        steps.append(i)\n",
    "        \n",
    "    steps = np.array(steps)\n",
    "    error = np.array([y_pred[i] - y_actual[i] for i in range(len(y_pred))])\n",
    "    y_pred = np.array(y_pred)\n",
    "    return [x, steps, error]\n",
    "\n",
    "# Set the initial point and learning rate\n",
    "initial_point = np.array([1.0, 1.0])\n",
    "learning_rate = 0.1\n",
    "learning_momentum = 0.5\n",
    "num_iterations = 100\n",
    "\n",
    "# Run gradient descent\n",
    "optimized_point = gradient_descent(initial_point, learning_rate, num_iterations)[0]\n",
    "steps, error = gradient_descent(initial_point, learning_rate, num_iterations)[1:3]\n",
    "\n",
    "print(\"Optimized point (standard):\", optimized_point)\n",
    "print(\"Optimized function value (standard):\", f1(optimized_point))\n",
    "\n",
    "optimized_point = gradient_descent_momentum(initial_point, learning_rate, learning_momentum, num_iterations)[0]\n",
    "steps_momentum, error_momentum = gradient_descent(initial_point, learning_rate, num_iterations)[1:3]\n",
    "print(\"Optimized point (momentum):\", optimized_point)\n",
    "print(\"Optimized function value (momentum):\", f1(optimized_point))\n",
    "\n",
    "optimized_point = gradient_descent_varying(initial_point, learning_rate, num_iterations)[0]\n",
    "steps_varying, error_varying = gradient_descent(initial_point, learning_rate, num_iterations)[1:3]\n",
    "print(\"Optimized point (momentum):\", optimized_point)\n",
    "print(\"Optimized function value (momentum):\", f1(optimized_point))\n",
    "\n",
    "plt.plot(steps, error, steps, error_momentum, steps, error_varying)"
   ]
  },
  {
   "cell_type": "code",
   "execution_count": 30,
   "metadata": {
    "colab": {
     "base_uri": "https://localhost:8080/"
    },
    "id": "V7gXMJvclLhD",
    "outputId": "d4f5be5b-41d7-45e1-9f2e-55f2738da9fd"
   },
   "outputs": [
    {
     "name": "stdout",
     "output_type": "stream",
     "text": [
      "Optimized point (standard): [1.47257713 2.16768049]\n",
      "Optimized function value (standard): 0.22339360489202056\n",
      "Optimized point (momentum): [1.69092511 2.8612798 ]\n",
      "Optimized function value (momentum): 0.4777986064176193\n",
      "Optimized point (momentum): [0.08546917 0.00728141]\n",
      "Optimized function value (momentum): 0.8363666990312171\n"
     ]
    },
    {
     "data": {
      "text/plain": [
       "[<matplotlib.lines.Line2D at 0x213167d7100>,\n",
       " <matplotlib.lines.Line2D at 0x213167d71f0>,\n",
       " <matplotlib.lines.Line2D at 0x213167d72b0>]"
      ]
     },
     "execution_count": 30,
     "metadata": {},
     "output_type": "execute_result"
    },
    {
     "data": {
      "image/png": "[encoded data removed]",
      "text/plain": [
       "<Figure size 432x288 with 1 Axes>"
      ]
     },
     "metadata": {
      "needs_background": "light"
     },
     "output_type": "display_data"
    }
   ],
   "source": [
    "### FUNCTION 2\n",
    "import pdb\n",
    "import numpy as np\n",
    "\n",
    "def f2(fx):\n",
    "    # Define the second function to optimize\n",
    "    x = fx[0]\n",
    "    y = fx[1]\n",
    "    f = (1-x)**2 + (100 * (y - x**2)**2)\n",
    "    return f\n",
    "\n",
    "def gradient_f2(fx):\n",
    "    # Compute the gradient of the function at point x\n",
    "    x = fx[0]\n",
    "    y = fx[1]\n",
    "    dfdx = (400 * x**3) + x - (400 * x * y) - 2\n",
    "    dfdy = (200 * y) - (200 * x**2)\n",
    "    return np.array([dfdx, dfdy])\n",
    "\n",
    "def gradient_momentum_f2(fx, learning_momentum, v):\n",
    "    # Compute the gradient of with learning momentum\n",
    "    x = fx[0]\n",
    "    y = fx[1]\n",
    "    dfdx = (400 * x**3) + x - (400 * x * y) - 2\n",
    "    dfdy = (200 * y) - (200 * x**2)\n",
    "\n",
    "    u = v[0]\n",
    "    w = v[1]\n",
    "    dvdu = (400 * u**3) + u - (400 * u * w) - 2\n",
    "    dvdw = (200 * w) - (200 * u**2)\n",
    "    return np.array([dfdx - learning_momentum * dvdu, dfdy - learning_momentum * dvdw])\n",
    "\n",
    "def gradient_descent(initial_x, learning_rate, num_iterations):\n",
    "    x = initial_x\n",
    "\n",
    "    y_actual = np.array([0]*num_iterations)\n",
    "    y_pred = []\n",
    "    steps = []\n",
    "    \n",
    "    for i in range(num_iterations):\n",
    "        gradient = gradient_f2(x)\n",
    "        x = x - learning_rate * gradient\n",
    "        # print(\"base\")\n",
    "        # pdb.set_trace()\n",
    "    \n",
    "        y_pred.append(x[0]) \n",
    "        steps.append(i)\n",
    "        \n",
    "    steps = np.array(steps)\n",
    "    error = np.array([y_pred[i] - y_actual[i] for i in range(len(y_pred))])\n",
    "    y_pred = np.array(y_pred)\n",
    "    return [x, steps, error]\n",
    "    \n",
    "\n",
    "def gradient_descent_momentum(initial_x, learning_rate, learning_momentum, num_iterations):\n",
    "    x = initial_x\n",
    "    v = initial_x\n",
    "\n",
    "    y_actual = np.array([0]*num_iterations)\n",
    "    y_pred = []\n",
    "    steps = []\n",
    "    \n",
    "    for i in range(num_iterations):\n",
    "        gradient = gradient_momentum_f2(x, learning_momentum, v)\n",
    "        v = (learning_momentum * v) + (learning_rate * gradient)\n",
    "        x = x - v\n",
    "        # print(\"iteration \" + str(i))\n",
    "        # print(\"momentum\")\n",
    "        #pdb.set_trace()\n",
    "    \n",
    "        y_pred.append(x[0]) \n",
    "        steps.append(i)\n",
    "        \n",
    "    steps = np.array(steps)\n",
    "    error = np.array([y_pred[i] - y_actual[i] for i in range(len(y_pred))])\n",
    "    y_pred = np.array(y_pred)\n",
    "    return [x, steps, error]\n",
    "\n",
    "def gradient_descent_varying(initial_x, learning_rate, num_iterations):\n",
    "    x = initial_x\n",
    "    v = initial_x\n",
    "\n",
    "    y_actual = np.array([0]*num_iterations)\n",
    "    y_pred = []\n",
    "    steps = []\n",
    "    \n",
    "    for i in range(num_iterations):\n",
    "        learning_momentum = (i+1)/(i+2)\n",
    "        gradient = gradient_momentum_f2(x, learning_momentum, v)\n",
    "        v = (learning_momentum * v) + (learning_rate * gradient)\n",
    "        x = x - v\n",
    "        # print(\"iteration \" + str(i))\n",
    "        # print(\"varying\")\n",
    "        #pdb.set_trace()\n",
    "        \n",
    "        y_pred.append(x[0]) \n",
    "        steps.append(i)\n",
    "    \n",
    "    steps = np.array(steps)\n",
    "    error = np.array([y_pred[i] - y_actual[i] for i in range(len(y_pred))])\n",
    "    y_pred = np.array(y_pred)\n",
    "    return [x, steps, error]\n",
    "\n",
    "# Set the initial point and learning rate\n",
    "initial_point = np.array([2.0, 2.0])\n",
    "learning_rate = 0.0001\n",
    "learning_momentum = 0.9\n",
    "num_iterations = 1000\n",
    "\n",
    "# Run gradient descent\n",
    "optimized_point = gradient_descent(initial_point, learning_rate, num_iterations)[0]\n",
    "steps, error = gradient_descent(initial_point, learning_rate, num_iterations)[1:3]\n",
    "print(\"Optimized point (standard):\", optimized_point)\n",
    "print(\"Optimized function value (standard):\", f2(optimized_point))\n",
    "\n",
    "optimized_point = gradient_descent_momentum(initial_point, learning_rate, learning_momentum, num_iterations)[0]\n",
    "steps_momentum, error_momentum = gradient_descent(initial_point, learning_rate, num_iterations)[1:3]\n",
    "print(\"Optimized point (momentum):\", optimized_point)\n",
    "print(\"Optimized function value (momentum):\", f2(optimized_point))\n",
    "\n",
    "optimized_point = gradient_descent_varying(initial_point, learning_rate, num_iterations)[0]\n",
    "steps_varying, error_varying = gradient_descent(initial_point, learning_rate, num_iterations)[1:3]\n",
    "print(\"Optimized point (momentum):\", optimized_point)\n",
    "print(\"Optimized function value (momentum):\", f2(optimized_point))\n",
    "\n",
    "plt.plot(steps, error, steps, error_momentum, steps, error_varying)\n",
    "#plt.plot(steps, error)\n",
    "#plt.plot(steps, error_momentum)\n",
    "#plt.plot(steps, error_varying)"
   ]
  },
  {
   "cell_type": "markdown",
   "metadata": {
    "id": "I6gWOaDD484i"
   },
   "source": [
    "# Problem 2"
   ]
  },
  {
   "cell_type": "code",
   "execution_count": null,
   "metadata": {
    "id": "3rIu7jO0yNxD"
   },
   "outputs": [],
   "source": [
    "### IMPORTS\n",
    "from sklearn.datasets import fetch_openml\n",
    "\n",
    "import matplotlib as mpl\n",
    "import matplotlib.pyplot as plt\n",
    "\n",
    "from sklearn.linear_model import SGDClassifier\n",
    "\n",
    "from sklearn.model_selection import StratifiedKFold\n",
    "from sklearn.base import clone\n",
    "\n",
    "from sklearn.model_selection import cross_val_predict\n",
    "from sklearn.model_selection import cross_val_score\n",
    "\n",
    "from sklearn.metrics import confusion_matrix\n",
    "from sklearn.metrics import precision_score, recall_score\n",
    "from sklearn.metrics import f1_score\n",
    "from sklearn.metrics import precision_recall_curve\n",
    "from sklearn.metrics import roc_curve\n",
    "from sklearn.metrics import roc_auc_score"
   ]
  },
  {
   "cell_type": "code",
   "execution_count": null,
   "metadata": {
    "colab": {
     "base_uri": "https://localhost:8080/"
    },
    "id": "3ShEL7MVvJw4",
    "outputId": "9ff3269d-98e4-4c20-bdba-9aef287bf97d"
   },
   "outputs": [
    {
     "name": "stderr",
     "output_type": "stream",
     "text": [
      "/usr/local/lib/python3.10/dist-packages/sklearn/datasets/_openml.py:968: FutureWarning: The default value of `parser` will change from `'liac-arff'` to `'auto'` in 1.4. You can set `parser='auto'` to silence this warning. Therefore, an `ImportError` will be raised from 1.4 if the dataset is dense and pandas is not installed. Note that the pandas parser may return different data types. See the Notes Section in fetch_openml's API doc for details.\n",
      "  warn(\n"
     ]
    },
    {
     "data": {
      "text/plain": [
       "dict_keys(['data', 'target', 'frame', 'categories', 'feature_names', 'target_names', 'DESCR', 'details', 'url'])"
      ]
     },
     "execution_count": 3,
     "metadata": {},
     "output_type": "execute_result"
    }
   ],
   "source": [
    "### FETCH DATA, ASSIGN VARS\n",
    "\n",
    "mnist = fetch_openml('mnist_784', version=1)\n",
    "mnist.keys()\n",
    "\n",
    "X,y = mnist[\"data\"], mnist[\"target\"]\n",
    "X = np.array(X)\n",
    "some_digit = X[0]\n",
    "\n",
    "X_train, X_test, y_train, y_test = X[:60000], X[60000:], y[:60000], y[60000:]"
   ]
  },
  {
   "cell_type": "markdown",
   "metadata": {
    "id": "D1p_oIuyDvqp"
   },
   "source": [
    "Our 3 classifiers:\n",
    "1. OvA\n",
    "2. Random Forest\n",
    "3. KNeighbors (probably will work best)"
   ]
  },
  {
   "cell_type": "markdown",
   "metadata": {
    "id": "YMeXfs--EaVq"
   },
   "source": [
    "## One vs. All (OvA)"
   ]
  },
  {
   "cell_type": "code",
   "execution_count": null,
   "metadata": {
    "colab": {
     "base_uri": "https://localhost:8080/"
    },
    "id": "oODiwTYjEmS1",
    "outputId": "8548a52d-5d4e-4bcc-e800-0b4333620834"
   },
   "outputs": [
    {
     "data": {
      "text/plain": [
       "0.8780295041097735"
      ]
     },
     "execution_count": 30,
     "metadata": {},
     "output_type": "execute_result"
    }
   ],
   "source": [
    "sgd_clf = SGDClassifier(random_state=42)\n",
    "sgd_clf.fit(X_train, y_train)\n",
    "sgd_clf.predict([some_digit])\n",
    "\n",
    "some_digit_scores = sgd_clf.decision_function([some_digit])\n",
    "\n",
    "y_train_ova_pred = cross_val_predict(sgd_clf, X_train, y_train, cv=5)\n",
    "f1_score(y_train, y_train_ova_pred, average=\"macro\")"
   ]
  },
  {
   "cell_type": "markdown",
   "metadata": {
    "id": "yZCrR7b6T-TC"
   },
   "source": [
    "The One vs. All classifier was the slowest and least accurate of the 3 classifiers we chose. It took 16 minutes to produce an f1 score of 87%."
   ]
  },
  {
   "cell_type": "markdown",
   "metadata": {
    "id": "4tWE_A_FEb1D"
   },
   "source": [
    "## Random Forest"
   ]
  },
  {
   "cell_type": "code",
   "execution_count": null,
   "metadata": {
    "colab": {
     "base_uri": "https://localhost:8080/"
    },
    "id": "Ut8t8qAJE8W5",
    "outputId": "bf3f88e4-bb59-461a-9cd7-05d95ae1e1d0"
   },
   "outputs": [
    {
     "data": {
      "text/plain": [
       "0.9661919580821857"
      ]
     },
     "execution_count": 29,
     "metadata": {},
     "output_type": "execute_result"
    }
   ],
   "source": [
    "from sklearn.ensemble import RandomForestClassifier\n",
    "\n",
    "forest_clf = RandomForestClassifier(random_state=42)\n",
    "forest_clf.fit(X_train, y_train)\n",
    "forest_clf.predict([some_digit])\n",
    "\n",
    "forest_clf.predict_proba([some_digit])\n",
    "\n",
    "y_train_forest_pred = cross_val_predict(forest_clf, X_train, y_train, cv=5)\n",
    "f1_score(y_train, y_train_forest_pred, average=\"macro\")"
   ]
  },
  {
   "cell_type": "markdown",
   "metadata": {
    "id": "QWERnAJAUFWG"
   },
   "source": [
    "The Random Forest classifier and the K Neighbors classifier scored very similarly, but because it's more difficult to tune the hyperparameters for this classifier, it is not the best one of the 3 we chose."
   ]
  },
  {
   "cell_type": "markdown",
   "metadata": {
    "id": "iMqh5EUyEdhy"
   },
   "source": [
    "## K Neighbors"
   ]
  },
  {
   "cell_type": "code",
   "execution_count": null,
   "metadata": {
    "colab": {
     "base_uri": "https://localhost:8080/"
    },
    "id": "q4MS5NqJEfU9",
    "outputId": "fd1b0465-e2fe-4c5a-ecf8-79bcd897ea7b"
   },
   "outputs": [
    {
     "data": {
      "text/plain": [
       "0.9625164092416195"
      ]
     },
     "execution_count": 27,
     "metadata": {},
     "output_type": "execute_result"
    }
   ],
   "source": [
    "from sklearn.neighbors import KNeighborsClassifier\n",
    "\n",
    "y_train_large = (y_train >= 7)\n",
    "y_train_odd = (y_train % 2 == 1)\n",
    "y_multilabel = np.c_[y_train_large, y_train_odd]\n",
    "\n",
    "knn_clf = KNeighborsClassifier()\n",
    "knn_clf.fit(X_train, y_multilabel)\n",
    "\n",
    "knn_clf.predict([some_digit])\n",
    "\n",
    "\n",
    "y_train_knn_pred = cross_val_predict(knn_clf, X_train, y_multilabel, cv=5)\n",
    "f1_score(y_multilabel, y_train_knn_pred, average=\"macro\")\n",
    "\n",
    "\n",
    "\n",
    "### TEST\n",
    "\n",
    "y_test_large = (y_test >= 7)\n",
    "y_test_odd = (y_test % 2 == 1)\n",
    "y_multilabel_test = np.c_[y_test_large, y_test_odd]\n",
    "\n",
    "y_test_knn_pred = cross_val_predict(knn_clf, X_test, y_multilabel_test, cv=5)\n",
    "f1_score(y_multilabel_test, y_test_knn_pred, average=\"macro\")"
   ]
  },
  {
   "cell_type": "markdown",
   "metadata": {
    "id": "jiM93wiGRFTN"
   },
   "source": [
    "The K Nearest Neighbors classifier is the best of the 3 classifiers we chose. While it performed very similarly to the Random Forest classifier in this example, further tuning of hyperparameters would improve its performance even more."
   ]
  }
 ],
 "metadata": {
  "colab": {
   "provenance": []
  },
  "kernelspec": {
   "display_name": "Python 3",
   "language": "python",
   "name": "python3"
  },
  "language_info": {
   "codemirror_mode": {
    "name": "ipython",
    "version": 3
   },
   "file_extension": ".py",
   "mimetype": "text/x-python",
   "name": "python",
   "nbconvert_exporter": "python",
   "pygments_lexer": "ipython3",
   "version": "3.8.3"
  }
 },
 "nbformat": 4,
 "nbformat_minor": 1
}
